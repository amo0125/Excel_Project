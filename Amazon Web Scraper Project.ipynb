{
 "cells": [
  {
   "cell_type": "code",
   "execution_count": 1,
   "id": "5129859d",
   "metadata": {},
   "outputs": [],
   "source": [
    "from bs4 import BeautifulSoup\n",
    "import requests\n",
    "import time\n",
    "import datetime"
   ]
  },
  {
   "cell_type": "code",
   "execution_count": 2,
   "id": "dfc50dc7",
   "metadata": {},
   "outputs": [
    {
     "name": "stdout",
     "output_type": "stream",
     "text": [
      "\n",
      "\n",
      "            Homguava Large Bean Bag Bed for Humans BeanBag Dog Bed Human-Sized Large Dog Bed for Adults, Pets (Large, Gradient Brown)\n",
      "           \n",
      "\n",
      "\n",
      "                         $239.99\n",
      "                        \n"
     ]
    }
   ],
   "source": [
    "# connect to website\n",
    "\n",
    "url = \"https://www.amazon.com/Homguava-Humans-BeanBag-Human-Sized-Gradient/dp/B0BFDNSZWR/ref=sr_1_2?crid=2KBLPQFPXM4CS&keywords=dog%2Bhuman%2Bbed&qid=1678461454&sprefix=dog%2Bhuman%2Bbe%2Caps%2C239&sr=8-2&th=1\"\n",
    "headers = {\n",
    "    \"User-Agent\": \"Mozilla/5.0 (Macintosh; Intel Mac OS X 10_15_0) AppleWebKit/537.36 (KHTML, like Gecko) Chrome/78.0.3904.97 Safari/537.36\",\n",
    "    \"Accept-Language\": \"en-US,en;q=0.9\",\n",
    "    \"Cookie\": \"session-id=131-4077166-0518513; session-id-time=2082787201l\",\n",
    "    \"Host\": \"www.amazon.com\",\n",
    "}\n",
    "\n",
    "response = requests.get(url, headers=headers)\n",
    "\n",
    "Soup = BeautifulSoup(response.content,\"html.parser\")\n",
    "\n",
    "Soup1 = BeautifulSoup(Soup.prettify(),\"html.parser\")\n",
    "\n",
    "title = Soup1.find(id=\"title\").get_text()\n",
    "  \n",
    "price = Soup1.find(class_=\"a-offscreen\").get_text()\n",
    "\n",
    "print(title)\n",
    "print(price)"
   ]
  },
  {
   "cell_type": "code",
   "execution_count": 19,
   "id": "4832d6f1",
   "metadata": {},
   "outputs": [
    {
     "name": "stdout",
     "output_type": "stream",
     "text": [
      "mguava Large Bean Bag Bed for Humans BeanBag Dog Bed Human-Sized Large Dog Bed for Adults, Pets (Large, Gradient Brown)\n",
      "239.99\n"
     ]
    }
   ],
   "source": [
    "title = title.strip()\n",
    "price = price.strip()[1:]\n",
    "print(title)\n",
    "print(price)"
   ]
  },
  {
   "cell_type": "code",
   "execution_count": 20,
   "id": "f64a9f43",
   "metadata": {},
   "outputs": [
    {
     "name": "stdout",
     "output_type": "stream",
     "text": [
      "2023-03-12\n"
     ]
    }
   ],
   "source": [
    "import datetime\n",
    "\n",
    "today = datetime.date.today()\n",
    "print(today)"
   ]
  },
  {
   "cell_type": "code",
   "execution_count": 21,
   "id": "a1c6e2e2",
   "metadata": {},
   "outputs": [],
   "source": [
    "import csv\n",
    "\n",
    "header = [\"Title\", \"Price\",\"Date\"]\n",
    "data = [title, price, today]\n",
    "\n",
    "# with open('AmazonWebScrapper.csv', 'w', newline= '',encoding='UTF') as f:\n",
    "#     writer = csv.writer(f)\n",
    "#     writer.writerow(header)\n",
    "#     writer.writerow(data)"
   ]
  },
  {
   "cell_type": "code",
   "execution_count": 22,
   "id": "20b90358",
   "metadata": {},
   "outputs": [
    {
     "name": "stdout",
     "output_type": "stream",
     "text": [
      "                                               Title    Price        Date\n",
      "0  Homguava Large Bean Bag Bed for Humans BeanBag...  $239.99  2023-03-12\n",
      "1  Homguava Large Bean Bag Bed for Humans BeanBag...  $239.99  2023-03-12\n",
      "2  Homguava Large Bean Bag Bed for Humans BeanBag...  $239.99  2023-03-12\n",
      "3  Homguava Large Bean Bag Bed for Humans BeanBag...  $239.99  2023-03-12\n",
      "4  Homguava Large Bean Bag Bed for Humans BeanBag...  $239.99  2023-03-12\n",
      "5  Homguava Large Bean Bag Bed for Humans BeanBag...  $239.99  2023-03-12\n",
      "6  Homguava Large Bean Bag Bed for Humans BeanBag...  $239.99  2023-03-12\n",
      "7  Homguava Large Bean Bag Bed for Humans BeanBag...  $239.99  2023-03-12\n",
      "8  Homguava Large Bean Bag Bed for Humans BeanBag...  $239.99  2023-03-12\n"
     ]
    }
   ],
   "source": [
    "import pandas as pd\n",
    "df = pd.read_csv('/Users/yyu716/Desktop/AmazonWebScrapper.csv')\n",
    "print(df)"
   ]
  },
  {
   "cell_type": "code",
   "execution_count": 23,
   "id": "69a20a8f",
   "metadata": {},
   "outputs": [],
   "source": [
    "# append data to csv\n",
    "\n",
    "with open('AmazonWebScrapper.csv', 'a', newline='', encoding='UTF') as f:\n",
    "    writer = csv.writer(f)\n",
    "    writer.writerow(data)"
   ]
  },
  {
   "cell_type": "code",
   "execution_count": 30,
   "id": "29d14d09",
   "metadata": {},
   "outputs": [],
   "source": [
    "def check_price():\n",
    "    url = \"https://www.amazon.com/Homguava-Humans-BeanBag-Human-Sized-Gradient/dp/B0BFDNSZWR/ref=sr_1_2?crid=2KBLPQFPXM4CS&keywords=dog+human+bed&qid=1678461454&sprefix=dog+human+be%2Caps%2C239&sr=8-2\"\n",
    "    headers = {\n",
    "        \"User-Agent\": \"Mozilla/5.0 (Macintosh; Intel Mac OS X 10_15_0) AppleWebKit/537.36 (KHTML, like Gecko) Chrome/78.0.3904.97 Safari/537.36\",\n",
    "        \"Accept-Language\": \"en-US,en;q=0.9\",\n",
    "        \"Cookie\": \"session-id=131-4077166-0518513; session-id-time=2082787201l\",\n",
    "        \"Host\": \"www.amazon.com\",\n",
    "    }\n",
    "\n",
    "    response = requests.get(url, headers=headers)\n",
    "\n",
    "    Soup = BeautifulSoup(response.content,\"html.parser\")\n",
    "    Soup1 = BeautifulSoup(Soup.prettify(),\"html.parser\")\n",
    "    title = Soup1.find(id=\"productTitle\").get_text()\n",
    "    price = Soup1.find(class_=\"a-offscreen\").get_text()\n",
    "    \n",
    "    title = title.strip()\n",
    "    price = price.strip()[1:]\n",
    "    \n",
    "    import datetime\n",
    "\n",
    "    today = datetime.date.today()\n",
    "    \n",
    "    import csv\n",
    "\n",
    "    header = [\"Title\", \"Price\",\"Date\"]\n",
    "    data = [title, price, today]\n",
    "\n",
    "    with open('AmazonWebScrapper.csv', 'a', newline= '',encoding='UTF') as f:\n",
    "        writer = csv.writer(f)\n",
    "#     writer.writerow(header)\n",
    "        writer.writerow(data)\n",
    "    \n",
    "    if float(price) < 200:\n",
    "        send_mail()\n",
    "        \n"
   ]
  },
  {
   "cell_type": "code",
   "execution_count": 31,
   "id": "06675ea6",
   "metadata": {},
   "outputs": [],
   "source": [
    "import smtplib\n",
    "\n",
    "def send_mail():\n",
    "    server = smtplib.SMTP_SSL('smtp.gmail.com',465)\n",
    "    server.ehlo()\n",
    "    server.login('mjilovechoco@gmail.com','amoarashi5__')\n",
    "    \n",
    "    subject = \"The dog bed for human is below $200 now! Now is your chance to buy!\"\n",
    "    body = \"Amo, This is the moment we have been waiting for.Don't miss it!!!\"\n",
    "    \n",
    "    msg = f\"Subject:{subject}\\n\\n{body}\"\n",
    "    \n",
    "    server.sendmail()(\n",
    "    'mjilovechoco@gmail.com',\n",
    "    msg\n",
    "    )\n",
    "    \n",
    "   "
   ]
  },
  {
   "cell_type": "code",
   "execution_count": 33,
   "id": "3c2d0121",
   "metadata": {},
   "outputs": [
    {
     "ename": "KeyboardInterrupt",
     "evalue": "",
     "output_type": "error",
     "traceback": [
      "\u001b[0;31m---------------------------------------------------------------------------\u001b[0m",
      "\u001b[0;31mKeyboardInterrupt\u001b[0m                         Traceback (most recent call last)",
      "Cell \u001b[0;32mIn[33], line 3\u001b[0m\n\u001b[1;32m      1\u001b[0m \u001b[39mwhile\u001b[39;00m \u001b[39mTrue\u001b[39;00m:\n\u001b[1;32m      2\u001b[0m     check_price()\n\u001b[0;32m----> 3\u001b[0m     time\u001b[39m.\u001b[39;49msleep(\u001b[39m5\u001b[39;49m)\n",
      "\u001b[0;31mKeyboardInterrupt\u001b[0m: "
     ]
    }
   ],
   "source": [
    "while True:\n",
    "    check_price()\n",
    "    time.sleep(86400)"
   ]
  },
  {
   "cell_type": "code",
   "execution_count": null,
   "id": "35e4a0c1",
   "metadata": {},
   "outputs": [],
   "source": [
    "import pandas as pd\n",
    "df = pd.read_csv('/Users/yyu716/Desktop/AmazonWebScrapper.csv')\n",
    "print(df)"
   ]
  }
 ],
 "metadata": {
  "kernelspec": {
   "display_name": "Python 3 (ipykernel)",
   "language": "python",
   "name": "python3"
  },
  "language_info": {
   "codemirror_mode": {
    "name": "ipython",
    "version": 3
   },
   "file_extension": ".py",
   "mimetype": "text/x-python",
   "name": "python",
   "nbconvert_exporter": "python",
   "pygments_lexer": "ipython3",
   "version": "3.11.0"
  }
 },
 "nbformat": 4,
 "nbformat_minor": 5
}
