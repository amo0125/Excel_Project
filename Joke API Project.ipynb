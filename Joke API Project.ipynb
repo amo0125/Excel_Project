{
 "cells": [
  {
   "cell_type": "code",
   "execution_count": null,
   "id": "ed0b9cbd-e0fe-4b18-9bd2-6b6122571486",
   "metadata": {},
   "outputs": [],
   "source": [
    "import requests\n",
    "import os\n",
    "\n",
    "url = \"https://official-joke-api.appspot.com/jokes/random\"\n",
    "headers = {\n",
    "    \"X-RapidAPI-Key\": os.environ.get('JOKE_API_KEY')\n",
    "}\n",
    "\n",
    "response = requests.get(url, headers=headers)\n",
    "\n",
    "if response.status_code == 200:\n",
    "    joke = response.json()\n",
    "    print(joke[\"setup\"])\n",
    "    print(joke[\"punchline\"])\n",
    "else:\n",
    "    print(\"Error retrieving joke\")"
   ]
  },
  {
   "cell_type": "code",
   "execution_count": null,
   "id": "38c38892-a21f-489d-b365-e25175b157da",
   "metadata": {},
   "outputs": [],
   "source": []
  }
 ],
 "metadata": {
  "kernelspec": {
   "display_name": "anaconda-2022.05-py39",
   "language": "python",
   "name": "conda-env-anaconda-2022.05-py39-py"
  },
  "language_info": {
   "codemirror_mode": {
    "name": "ipython",
    "version": 3
   },
   "file_extension": ".py",
   "mimetype": "text/x-python",
   "name": "python",
   "nbconvert_exporter": "python",
   "pygments_lexer": "ipython3",
   "version": "3.9.12"
  }
 },
 "nbformat": 4,
 "nbformat_minor": 5
}
