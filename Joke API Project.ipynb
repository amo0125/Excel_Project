{
 "cells": [
  {
   "cell_type": "code",
   "execution_count": 4,
   "id": "ed0b9cbd-e0fe-4b18-9bd2-6b6122571486",
   "metadata": {},
   "outputs": [
    {
     "name": "stdout",
     "output_type": "stream",
     "text": [
      "The punchline often arrives before the set-up.\n",
      "Do you know the problem with UDP jokes?\n"
     ]
    }
   ],
   "source": [
    "import requests\n",
    "import os\n",
    "\n",
    "url = \"https://official-joke-api.appspot.com/jokes/random\"\n",
    "headers = {\n",
    "    \"X-RapidAPI-Key\": os.environ.get('JOKE_API_KEY')\n",
    "}\n",
    "\n",
    "response = requests.get(url, headers=headers)\n",
    "\n",
    "if response.status_code == 200:\n",
    "    joke = response.json()\n",
    "    print(joke[\"setup\"])\n",
    "    print(joke[\"punchline\"])\n",
    "else:\n",
    "    print(\"Error retrieving joke\")"
   ]
  },
  {
   "cell_type": "code",
   "execution_count": null,
   "id": "49a4ef33-a4f6-4f07-bd36-5b9d76814487",
   "metadata": {},
   "outputs": [],
   "source": []
  }
 ],
 "metadata": {
  "kernelspec": {
   "display_name": "anaconda-2022.05-py39",
   "language": "python",
   "name": "conda-env-anaconda-2022.05-py39-py"
  },
  "language_info": {
   "codemirror_mode": {
    "name": "ipython",
    "version": 3
   },
   "file_extension": ".py",
   "mimetype": "text/x-python",
   "name": "python",
   "nbconvert_exporter": "python",
   "pygments_lexer": "ipython3",
   "version": "3.9.12"
  }
 },
 "nbformat": 4,
 "nbformat_minor": 5
}
